{
 "cells": [
  {
   "cell_type": "markdown",
   "metadata": {},
   "source": [
    "## Tuples"
   ]
  },
  {
   "cell_type": "code",
   "execution_count": 1,
   "metadata": {},
   "outputs": [
    {
     "name": "stdout",
     "output_type": "stream",
     "text": [
      "dog\n",
      "cat\n",
      "monkey\n"
     ]
    }
   ],
   "source": [
    "tuple1 = (\"dog\", \"cat\", \"monkey\")\n",
    "\n",
    "println(tuple1[1])\n",
    "println(tuple1[2])\n",
    "println(tuple1[3])"
   ]
  },
  {
   "cell_type": "markdown",
   "metadata": {},
   "source": [
    "## Named Tuples"
   ]
  },
  {
   "cell_type": "code",
   "execution_count": 2,
   "metadata": {},
   "outputs": [
    {
     "data": {
      "text/plain": [
       "true"
      ]
     },
     "execution_count": 2,
     "metadata": {},
     "output_type": "execute_result"
    }
   ],
   "source": [
    "tuple2 = (animal1 = \"dog\", animal2 = \"cat\", animal3 = \"monkey\")\n",
    "\n",
    "tuple2.animal1 == tuple2[1]"
   ]
  },
  {
   "cell_type": "markdown",
   "metadata": {},
   "source": [
    "## Dictionaries"
   ]
  },
  {
   "cell_type": "code",
   "execution_count": 6,
   "metadata": {},
   "outputs": [
    {
     "data": {
      "text/plain": [
       "Dict{String,String} with 3 entries:\n",
       "  \"Jenny\"    => \"123-4557\"\n",
       "  \"Jonathan\" => \"444-9987\"\n",
       "  \"Kramer\"   => \"123-9988\""
      ]
     },
     "execution_count": 6,
     "metadata": {},
     "output_type": "execute_result"
    }
   ],
   "source": [
    "dict1 = Dict(\"Jenny\" => \"123-4557\", \"Jonathan\" => \"444-9987\")\n",
    "\n",
    "dict1[\"Jenny\"] # value\n",
    "dict1[\"Kramer\"] = \"123-9988\" # add\n",
    "dict1"
   ]
  },
  {
   "cell_type": "code",
   "execution_count": 7,
   "metadata": {},
   "outputs": [
    {
     "data": {
      "text/plain": [
       "Dict{String,String} with 2 entries:\n",
       "  \"Jenny\"    => \"123-4557\"\n",
       "  \"Jonathan\" => \"444-9987\""
      ]
     },
     "execution_count": 7,
     "metadata": {},
     "output_type": "execute_result"
    }
   ],
   "source": [
    "pop!(dict1, \"Kramer\") # delete\n",
    "\n",
    "dict1"
   ]
  },
  {
   "cell_type": "markdown",
   "metadata": {},
   "source": [
    "## Arrays"
   ]
  },
  {
   "cell_type": "code",
   "execution_count": 17,
   "metadata": {},
   "outputs": [
    {
     "data": {
      "text/plain": [
       "5-element Array{String,1}:\n",
       " \"Doctor\"   \n",
       " \"Teacher\"  \n",
       " \"Student\"  \n",
       " \"Patient\"  \n",
       " \"Developer\""
      ]
     },
     "execution_count": 17,
     "metadata": {},
     "output_type": "execute_result"
    }
   ],
   "source": [
    "array1 = [\"Doctor\", \"Teacher\", \"Student\", \"Patient\"]\n",
    "array2 = [[\"Baek Yerin\", \"Dean\", \"Heize\"], [\"Jannabi\", \"Giriboy\", \"Syd\"]]\n",
    "\n",
    "push!(array1, \"Developer\")\n",
    "push!(array1, \"Developer\")\n",
    "pop!(array1) # removes the last element of an array\n",
    "\n",
    "array1"
   ]
  },
  {
   "cell_type": "code",
   "execution_count": 13,
   "metadata": {},
   "outputs": [
    {
     "data": {
      "text/plain": [
       "3×2×2 Array{Float64,3}:\n",
       "[:, :, 1] =\n",
       " 0.654111  0.32961 \n",
       " 0.254785  0.508538\n",
       " 0.352236  0.802673\n",
       "\n",
       "[:, :, 2] =\n",
       " 0.10694   0.860763\n",
       " 0.248809  0.325727\n",
       " 0.590941  0.117784"
      ]
     },
     "execution_count": 13,
     "metadata": {},
     "output_type": "execute_result"
    }
   ],
   "source": [
    "rand(4, 4)\n",
    "rand(3, 2, 2)"
   ]
  },
  {
   "cell_type": "code",
   "execution_count": 21,
   "metadata": {},
   "outputs": [
    {
     "data": {
      "text/plain": [
       "\"Nurse\""
      ]
     },
     "execution_count": 21,
     "metadata": {},
     "output_type": "execute_result"
    }
   ],
   "source": [
    "copy = array1\n",
    "\n",
    "copy[1] = \"Nurse\"\n",
    "array1[1]"
   ]
  }
 ],
 "metadata": {
  "kernelspec": {
   "display_name": "Julia 1.1.1",
   "language": "julia",
   "name": "julia-1.1"
  },
  "language_info": {
   "file_extension": ".jl",
   "mimetype": "application/julia",
   "name": "julia",
   "version": "1.1.1"
  }
 },
 "nbformat": 4,
 "nbformat_minor": 2
}
