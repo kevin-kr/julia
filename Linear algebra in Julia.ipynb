{
 "cells": [
  {
   "cell_type": "markdown",
   "metadata": {},
   "source": [
    "## Basic linear algebra in Julia  "
   ]
  },
  {
   "cell_type": "code",
   "execution_count": 52,
   "metadata": {},
   "outputs": [
    {
     "data": {
      "text/plain": [
       "3×3 Array{Int64,2}:\n",
       " 11  14   9\n",
       " 14  26  15\n",
       "  9  15  21"
      ]
     },
     "execution_count": 52,
     "metadata": {},
     "output_type": "execute_result"
    }
   ],
   "source": [
    "A = rand(1:4, 3, 3)\n",
    "\n",
    "x = fill(1.0, (3,))\n",
    "# x = fill(1.0, 3)\n",
    "\n",
    "b = A*x\n",
    "\n",
    "A' == transpose(A)\n",
    "\n",
    "A'A\n",
    "A*A'"
   ]
  },
  {
   "cell_type": "markdown",
   "metadata": {},
   "source": [
    "### Solving linear systems\n",
    "The problem Ax = b is solved by the \\ function"
   ]
  },
  {
   "cell_type": "code",
   "execution_count": 53,
   "metadata": {},
   "outputs": [
    {
     "data": {
      "text/plain": [
       "3-element Array{Float64,1}:\n",
       " 1.0\n",
       " 1.0\n",
       " 1.0"
      ]
     },
     "execution_count": 53,
     "metadata": {},
     "output_type": "execute_result"
    }
   ],
   "source": [
    "A\\b"
   ]
  },
  {
   "cell_type": "markdown",
   "metadata": {},
   "source": [
    "the *minimum norm least squares solution* if we have a rank-deficient least squares problem"
   ]
  },
  {
   "cell_type": "code",
   "execution_count": 55,
   "metadata": {},
   "outputs": [
    {
     "data": {
      "text/plain": [
       "3-element Array{Float64,1}:\n",
       "  3.6029460804504256\n",
       " -2.1917543315939803\n",
       "  1.408025420261345 "
      ]
     },
     "execution_count": 55,
     "metadata": {},
     "output_type": "execute_result"
    }
   ],
   "source": [
    "v = rand(3)\n",
    "rankdef = hcat(v,v) # concatenate along dimension 1\n",
    "\n",
    "A = [1 2 3 4 5]\n",
    "B = [6 7 8 9 10; 11 12 13 14 15]\n",
    "vcat(A,B) # concatenate along dimension 1\n",
    "\n",
    "rankdef\\b\n",
    "\n",
    "Ashort = rand(2,3)\n",
    "bshort = rand(2)\n",
    "\n",
    "Ashort\\bshort"
   ]
  },
  {
   "cell_type": "code",
   "execution_count": 56,
   "metadata": {},
   "outputs": [],
   "source": [
    "using LinearAlgebra"
   ]
  },
  {
   "cell_type": "markdown",
   "metadata": {},
   "source": [
    "## Factorizations  \n",
    "\n",
    "### LU factorization"
   ]
  },
  {
   "cell_type": "code",
   "execution_count": 62,
   "metadata": {},
   "outputs": [
    {
     "data": {
      "text/plain": [
       "LU{Float64,Array{Float64,2}}\n",
       "L factor:\n",
       "5×5 Array{Float64,2}:\n",
       " 1.0        0.0       0.0        0.0       0.0\n",
       " 0.0170622  1.0       0.0        0.0       0.0\n",
       " 0.32053    0.452398  1.0        0.0       0.0\n",
       " 0.140383   0.185032  0.0869712  1.0       0.0\n",
       " 0.706411   0.418912  0.961995   0.307346  1.0\n",
       "U factor:\n",
       "5×5 Array{Float64,2}:\n",
       " 0.778905  0.561902  0.635976   0.659209   0.71803  \n",
       " 0.0       0.709791  0.0306368  0.013457   0.627951 \n",
       " 0.0       0.0       0.423298   0.291787   0.0302565\n",
       " 0.0       0.0       0.0        0.727042  -0.204265 \n",
       " 0.0       0.0       0.0        0.0       -0.262979 "
      ]
     },
     "execution_count": 62,
     "metadata": {},
     "output_type": "execute_result"
    }
   ],
   "source": [
    "A = rand(5,5)\n",
    "Alu = lu(A)"
   ]
  },
  {
   "cell_type": "code",
   "execution_count": 66,
   "metadata": {},
   "outputs": [
    {
     "data": {
      "text/plain": [
       "5×5 Array{Float64,2}:\n",
       " 0.109345   0.210216  0.131764   0.847451   0.0153573\n",
       " 0.0132898  0.719378  0.0414879  0.0247046  0.640203 \n",
       " 0.249662   0.501214  0.641007   0.509171   0.544491 \n",
       " 0.550227   0.694273  0.869305   0.975461   0.473628 \n",
       " 0.778905   0.561902  0.635976   0.659209   0.71803  "
      ]
     },
     "execution_count": 66,
     "metadata": {},
     "output_type": "execute_result"
    }
   ],
   "source": [
    "A"
   ]
  },
  {
   "cell_type": "code",
   "execution_count": 72,
   "metadata": {},
   "outputs": [
    {
     "data": {
      "text/plain": [
       "5×5 Array{Float64,2}:\n",
       " 0.778905   0.561902  0.635976   0.659209   0.71803  \n",
       " 0.0132898  0.719378  0.0414879  0.0247046  0.640203 \n",
       " 0.249662   0.501214  0.641007   0.509171   0.544491 \n",
       " 0.109345   0.210216  0.131764   0.847451   0.0153573\n",
       " 0.550227   0.694273  0.869305   0.975461   0.473628 "
      ]
     },
     "execution_count": 72,
     "metadata": {},
     "output_type": "execute_result"
    }
   ],
   "source": [
    "Alu.P * A"
   ]
  },
  {
   "cell_type": "code",
   "execution_count": 71,
   "metadata": {},
   "outputs": [
    {
     "data": {
      "text/plain": [
       "5×5 Array{Float64,2}:\n",
       " 0.778905   0.561902  0.635976   0.659209   0.71803  \n",
       " 0.0132898  0.719378  0.0414879  0.0247046  0.640203 \n",
       " 0.249662   0.501214  0.641007   0.509171   0.544491 \n",
       " 0.109345   0.210216  0.131764   0.847451   0.0153573\n",
       " 0.550227   0.694273  0.869305   0.975461   0.473628 "
      ]
     },
     "execution_count": 71,
     "metadata": {},
     "output_type": "execute_result"
    }
   ],
   "source": [
    "Alu.L * Alu.U"
   ]
  },
  {
   "cell_type": "markdown",
   "metadata": {},
   "source": [
    "### QR factorization  \n",
    "Gram-Schmidt Q"
   ]
  },
  {
   "cell_type": "code",
   "execution_count": 73,
   "metadata": {},
   "outputs": [
    {
     "data": {
      "text/plain": [
       "LinearAlgebra.QRCompactWY{Float64,Array{Float64,2}}\n",
       "Q factor:\n",
       "5×5 LinearAlgebra.QRCompactWYQ{Float64,Array{Float64,2}}:\n",
       " -0.110236  -0.127017   0.063396   0.960644   0.211797 \n",
       " -0.013398  -0.882852   0.446598  -0.138462  -0.0420837\n",
       " -0.251696  -0.316564  -0.625798  -0.171537   0.644506 \n",
       " -0.554708  -0.184664  -0.418271   0.091465  -0.689116 \n",
       " -0.785249   0.264811   0.479539  -0.142125   0.251201 \n",
       "R factor:\n",
       "5×5 Array{Float64,2}:\n",
       " -0.991921  -0.985317  -1.15803   -1.28065   -0.973874 \n",
       "  0.0       -0.799881  -0.2484    -0.296203  -0.636841 \n",
       "  0.0        0.0       -0.432889  -0.345772   0.0923641\n",
       "  0.0        0.0        0.0        0.718867  -0.226021 \n",
       "  0.0        0.0        0.0        0.0        0.181223 "
      ]
     },
     "execution_count": 73,
     "metadata": {},
     "output_type": "execute_result"
    }
   ],
   "source": [
    "Aqr = qr(A)"
   ]
  },
  {
   "cell_type": "markdown",
   "metadata": {},
   "source": [
    "### Eigendecomposition"
   ]
  },
  {
   "cell_type": "code",
   "execution_count": 74,
   "metadata": {},
   "outputs": [
    {
     "data": {
      "text/plain": [
       "Eigen{Complex{Float64},Complex{Float64},Array{Complex{Float64},2},Array{Complex{Float64},1}}\n",
       "eigenvalues:\n",
       "5-element Array{Complex{Float64},1}:\n",
       "   2.5044956234300333 + 0.0im               \n",
       " -0.27303418736748375 + 0.0im               \n",
       "    0.291823264424651 + 0.3206353898687668im\n",
       "    0.291823264424651 - 0.3206353898687668im\n",
       "    0.348113825614242 + 0.0im               \n",
       "eigenvectors:\n",
       "5×5 Array{Complex{Float64},2}:\n",
       " -0.264292+0.0im   0.628207+0.0im  -0.350577-0.254264im   …   0.008804+0.0im\n",
       " -0.222964+0.0im   0.347778+0.0im   0.651382+0.0im           -0.826197+0.0im\n",
       " -0.428378+0.0im   0.180752+0.0im   0.133354+0.0847241im      0.296533+0.0im\n",
       " -0.614821+0.0im  -0.387879+0.0im    -0.1538-0.206617im       0.153094+0.0im\n",
       " -0.564733+0.0im  -0.548895+0.0im  -0.430451+0.333995im       0.453819+0.0im"
      ]
     },
     "execution_count": 74,
     "metadata": {},
     "output_type": "execute_result"
    }
   ],
   "source": [
    "AEig = eigen(A) # complex eigenvalues"
   ]
  },
  {
   "cell_type": "code",
   "execution_count": 75,
   "metadata": {},
   "outputs": [
    {
     "data": {
      "text/plain": [
       "5-element Array{Complex{Float64},1}:\n",
       "   2.5044956234300333 + 0.0im               \n",
       " -0.27303418736748375 + 0.0im               \n",
       "    0.291823264424651 + 0.3206353898687668im\n",
       "    0.291823264424651 - 0.3206353898687668im\n",
       "    0.348113825614242 + 0.0im               "
      ]
     },
     "execution_count": 75,
     "metadata": {},
     "output_type": "execute_result"
    }
   ],
   "source": [
    "AEig.values"
   ]
  },
  {
   "cell_type": "code",
   "execution_count": 76,
   "metadata": {},
   "outputs": [
    {
     "data": {
      "text/plain": [
       "5×5 Array{Complex{Float64},2}:\n",
       " -0.264292+0.0im   0.628207+0.0im  -0.350577-0.254264im   …   0.008804+0.0im\n",
       " -0.222964+0.0im   0.347778+0.0im   0.651382+0.0im           -0.826197+0.0im\n",
       " -0.428378+0.0im   0.180752+0.0im   0.133354+0.0847241im      0.296533+0.0im\n",
       " -0.614821+0.0im  -0.387879+0.0im    -0.1538-0.206617im       0.153094+0.0im\n",
       " -0.564733+0.0im  -0.548895+0.0im  -0.430451+0.333995im       0.453819+0.0im"
      ]
     },
     "execution_count": 76,
     "metadata": {},
     "output_type": "execute_result"
    }
   ],
   "source": [
    "AEig.vectors"
   ]
  },
  {
   "cell_type": "code",
   "execution_count": 86,
   "metadata": {},
   "outputs": [
    {
     "data": {
      "text/plain": [
       "true"
      ]
     },
     "execution_count": 86,
     "metadata": {},
     "output_type": "execute_result"
    }
   ],
   "source": [
    "Aeigenvalue = AEig.values[1]\n",
    "Aeigenvector = AEig.vectors[:,1]\n",
    "\n",
    "A * Aeigenvector ≈ Aeigenvalue * Aeigenvector"
   ]
  },
  {
   "cell_type": "code",
   "execution_count": 114,
   "metadata": {},
   "outputs": [
    {
     "data": {
      "text/plain": [
       "Eigen{Float64,Float64,Array{Float64,2},Array{Float64,1}}\n",
       "eigenvalues:\n",
       "3-element Array{Float64,1}:\n",
       " -1.6226095536083078\n",
       "  2.0957919562301193\n",
       " 13.526817597378168 \n",
       "eigenvectors:\n",
       "3×3 Array{Float64,2}:\n",
       "  0.454056  -0.620664  -0.639225\n",
       " -0.864542  -0.133467  -0.484513\n",
       "  0.215405   0.772634  -0.597192"
      ]
     },
     "execution_count": 114,
     "metadata": {},
     "output_type": "execute_result"
    }
   ],
   "source": [
    "A = rand(1:3, 3, 3)\n",
    "Asym = A + A'\n",
    "AsymEig = eigen(Asym)"
   ]
  },
  {
   "cell_type": "code",
   "execution_count": 115,
   "metadata": {},
   "outputs": [
    {
     "data": {
      "text/plain": [
       "3-element Array{Float64,1}:\n",
       " -1.6226095536083078\n",
       "  2.0957919562301193\n",
       " 13.526817597378168 "
      ]
     },
     "execution_count": 115,
     "metadata": {},
     "output_type": "execute_result"
    }
   ],
   "source": [
    "AsymEig.values"
   ]
  },
  {
   "cell_type": "code",
   "execution_count": 116,
   "metadata": {},
   "outputs": [
    {
     "data": {
      "text/plain": [
       "3×3 Array{Float64,2}:\n",
       "  0.454056  -0.620664  -0.639225\n",
       " -0.864542  -0.133467  -0.484513\n",
       "  0.215405   0.772634  -0.597192"
      ]
     },
     "execution_count": 116,
     "metadata": {},
     "output_type": "execute_result"
    }
   ],
   "source": [
    "AsymEig.vectors"
   ]
  }
 ],
 "metadata": {
  "kernelspec": {
   "display_name": "Julia 1.1.1",
   "language": "julia",
   "name": "julia-1.1"
  },
  "language_info": {
   "file_extension": ".jl",
   "mimetype": "application/julia",
   "name": "julia",
   "version": "1.1.1"
  }
 },
 "nbformat": 4,
 "nbformat_minor": 2
}
