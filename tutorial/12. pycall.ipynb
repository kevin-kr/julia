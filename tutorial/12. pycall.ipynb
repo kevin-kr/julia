{
 "cells": [
  {
   "cell_type": "code",
   "execution_count": 3,
   "metadata": {},
   "outputs": [
    {
     "name": "stdout",
     "output_type": "stream",
     "text": [
      "\u001b[32m\u001b[1m  Building\u001b[22m\u001b[39m Conda ─→ `C:\\Users\\quf93\\.julia\\packages\\Conda\\kLXeC\\deps\\build.log`\n",
      "\u001b[32m\u001b[1m  Building\u001b[22m\u001b[39m PyCall → `C:\\Users\\quf93\\.julia\\packages\\PyCall\\ttONZ\\deps\\build.log`\n"
     ]
    },
    {
     "name": "stderr",
     "output_type": "stream",
     "text": [
      "┌ Info: Recompiling stale cache file C:\\Users\\quf93\\.julia\\compiled\\v1.1\\PyCall\\GkzkC.ji for PyCall [438e738f-606a-5dbb-bf0a-cddfbfd45ab0]\n",
      "└ @ Base loading.jl:1184\n",
      "┌ Warning: `@pyimport foo` is deprecated in favor of `foo = pyimport(\"foo\")`.\n",
      "│   caller = _pywrap_pyimport(::PyObject) at PyCall.jl:407\n",
      "└ @ PyCall C:\\Users\\quf93\\.julia\\packages\\PyCall\\ttONZ\\src\\PyCall.jl:407\n"
     ]
    }
   ],
   "source": [
    "using Pkg\n",
    "ENV[\"PYTHON\"] = \"C:\\\\Users\\\\quf93\\\\AppData\\\\Local\\\\Programs\\\\Python\\\\Python37\\\\python.exe\"\n",
    "Pkg.build(\"PyCall\")\n",
    "using PyCall\n",
    "\n",
    "@pyimport torch\n",
    "@pyimport torch.nn as nn\n",
    "@pyimport torch.nn.functional as F\n",
    "@pyimport torch.optim as optim"
   ]
  },
  {
   "cell_type": "code",
   "execution_count": 4,
   "metadata": {},
   "outputs": [
    {
     "name": "stderr",
     "output_type": "stream",
     "text": [
      "┌ Warning: `getindex(o::PyObject, s::Symbol)` is deprecated in favor of dot overloading (`getproperty`) so elements should now be accessed as e.g. `o.s` instead of `o[:s]`.\n",
      "│   caller = top-level scope at In[4]:3\n",
      "└ @ Core In[4]:3\n"
     ]
    },
    {
     "data": {
      "text/plain": [
       "PyObject tensor([[3.1732],\n",
       "        [2.3475],\n",
       "        [2.9244],\n",
       "        [3.0450],\n",
       "        [3.5403],\n",
       "        [2.0573],\n",
       "        [3.8613],\n",
       "        [3.2770],\n",
       "        [3.6564],\n",
       "        [3.0866]])"
      ]
     },
     "execution_count": 4,
     "metadata": {},
     "output_type": "execute_result"
    }
   ],
   "source": [
    "x = torch.rand(10, 10)\n",
    "w = torch.rand(10, 1)\n",
    "y = x[:matmul](w)"
   ]
  },
  {
   "cell_type": "code",
   "execution_count": 6,
   "metadata": {},
   "outputs": [
    {
     "name": "stderr",
     "output_type": "stream",
     "text": [
      "┌ Warning: `getindex(o::PyObject, s::Symbol)` is deprecated in favor of dot overloading (`getproperty`) so elements should now be accessed as e.g. `o.s` instead of `o[:s]`.\n",
      "│   caller = top-level scope at In[6]:2\n",
      "└ @ Core In[6]:2\n"
     ]
    },
    {
     "name": "stdout",
     "output_type": "stream",
     "text": [
      "Loss is 5.190136909484863\n",
      "Loss is 3.3551864624023438\n"
     ]
    },
    {
     "name": "stderr",
     "output_type": "stream",
     "text": [
      "┌ Warning: `getindex(o::PyObject, s::Symbol)` is deprecated in favor of dot overloading (`getproperty`) so elements should now be accessed as e.g. `o.s` instead of `o[:s]`.\n",
      "│   caller = top-level scope at In[6]:7\n",
      "└ @ Core .\\In[6]:7\n",
      "┌ Warning: `getindex(o::PyObject, s::Symbol)` is deprecated in favor of dot overloading (`getproperty`) so elements should now be accessed as e.g. `o.s` instead of `o[:s]`.\n",
      "│   caller = top-level scope at In[6]:8\n",
      "└ @ Core .\\In[6]:8\n",
      "┌ Warning: `getindex(o::PyObject, s::Symbol)` is deprecated in favor of dot overloading (`getproperty`) so elements should now be accessed as e.g. `o.s` instead of `o[:s]`.\n",
      "│   caller = top-level scope at In[6]:9\n",
      "└ @ Core .\\In[6]:9\n",
      "┌ Warning: `getindex(o::PyObject, s::Symbol)` is deprecated in favor of dot overloading (`getproperty`) so elements should now be accessed as e.g. `o.s` instead of `o[:s]`.\n",
      "│   caller = top-level scope at In[6]:10\n",
      "└ @ Core .\\In[6]:10\n"
     ]
    },
    {
     "name": "stdout",
     "output_type": "stream",
     "text": [
      "Loss is 1.976161241531372\n",
      "Loss is 1.0419145822525024\n",
      "Loss is 0.482271283864975\n",
      "Loss is 0.19271515309810638\n",
      "Loss is 0.06747078150510788\n",
      "Loss is 0.024500831961631775\n",
      "Loss is 0.013942649587988853\n",
      "Loss is 0.012447736226022243\n",
      "Loss is 0.012153689749538898\n"
     ]
    }
   ],
   "source": [
    "model = nn.Linear(10, 1, bias=false)\n",
    "optimizer = optim.Adam(model[:parameters](), lr=0.01)\n",
    "\n",
    "for i = 0:100\n",
    "    ŷ = model(x)\n",
    "    loss = F.mse_loss(ŷ, y)\n",
    "    i % 10 == 0 && println(\"Loss is $(loss[:item]())\")\n",
    "    optimizer[:zero_grad]()\n",
    "    loss[:backward]()\n",
    "    optimizer[:step]()\n",
    "end"
   ]
  },
  {
   "cell_type": "code",
   "execution_count": null,
   "metadata": {},
   "outputs": [],
   "source": []
  }
 ],
 "metadata": {
  "kernelspec": {
   "display_name": "Julia 1.1.1",
   "language": "julia",
   "name": "julia-1.1"
  },
  "language_info": {
   "file_extension": ".jl",
   "mimetype": "application/julia",
   "name": "julia",
   "version": "1.1.1"
  }
 },
 "nbformat": 4,
 "nbformat_minor": 2
}
