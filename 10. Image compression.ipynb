{
 "cells": [
  {
   "cell_type": "markdown",
   "metadata": {},
   "source": [
    "## Image compression"
   ]
  },
  {
   "cell_type": "code",
   "execution_count": 9,
   "metadata": {},
   "outputs": [
    {
     "name": "stdout",
     "output_type": "stream",
     "text": [
      "\u001b[32m\u001b[1m Resolving\u001b[22m\u001b[39m package versions...\n",
      "\u001b[32m\u001b[1m  Updating\u001b[22m\u001b[39m `C:\\Users\\quf93\\.julia\\environments\\v1.1\\Project.toml`\n",
      "\u001b[90m [no changes]\u001b[39m\n",
      "\u001b[32m\u001b[1m  Updating\u001b[22m\u001b[39m `C:\\Users\\quf93\\.julia\\environments\\v1.1\\Manifest.toml`\n",
      "\u001b[90m [no changes]\u001b[39m\n",
      "\u001b[32m\u001b[1m Resolving\u001b[22m\u001b[39m package versions...\n",
      "\u001b[32m\u001b[1m Installed\u001b[22m\u001b[39m ImageMagick ─ v0.7.5\n",
      "\u001b[32m\u001b[1m  Updating\u001b[22m\u001b[39m `C:\\Users\\quf93\\.julia\\environments\\v1.1\\Project.toml`\n",
      " \u001b[90m [6218d12a]\u001b[39m\u001b[92m + ImageMagick v0.7.5\u001b[39m\n",
      "\u001b[32m\u001b[1m  Updating\u001b[22m\u001b[39m `C:\\Users\\quf93\\.julia\\environments\\v1.1\\Manifest.toml`\n",
      " \u001b[90m [6218d12a]\u001b[39m\u001b[92m + ImageMagick v0.7.5\u001b[39m\n",
      "\u001b[32m\u001b[1m  Building\u001b[22m\u001b[39m ImageMagick → `C:\\Users\\quf93\\.julia\\packages\\ImageMagick\\vMfoS\\deps\\build.log`\n"
     ]
    }
   ],
   "source": [
    "import Pkg\n",
    "Pkg.add(\"Images\")\n",
    "Pkg.add(\"ImageMagick\")\n",
    "using Images, LinearAlgebra"
   ]
  },
  {
   "cell_type": "code",
   "execution_count": 10,
   "metadata": {},
   "outputs": [
    {
     "name": "stderr",
     "output_type": "stream",
     "text": [
      "┌ Info: Precompiling ImageMagick [6218d12a-5da1-5696-b52f-db25d2ecc6d1]\n",
      "└ @ Base loading.jl:1186\n"
     ]
    },
    {
     "data": {
      "text/plain": [
       "(100, 100)"
      ]
     },
     "execution_count": 10,
     "metadata": {},
     "output_type": "execute_result"
    }
   ],
   "source": [
    "banana = load(\"images/banana.jpg\")\n",
    "size(banana)"
   ]
  },
  {
   "cell_type": "code",
   "execution_count": 11,
   "metadata": {},
   "outputs": [
    {
     "data": {
      "image/png": "[encoded data removed]",
      "text/plain": [
       "100×100 Array{Gray{N0f8},2} with eltype Gray{Normed{UInt8,8}}:\n",
       " Gray{N0f8}(1.0)  Gray{N0f8}(1.0)  …  Gray{N0f8}(1.0)  Gray{N0f8}(1.0)\n",
       " Gray{N0f8}(1.0)  Gray{N0f8}(1.0)     Gray{N0f8}(1.0)  Gray{N0f8}(1.0)\n",
       " Gray{N0f8}(1.0)  Gray{N0f8}(1.0)     Gray{N0f8}(1.0)  Gray{N0f8}(1.0)\n",
       " Gray{N0f8}(1.0)  Gray{N0f8}(1.0)     Gray{N0f8}(1.0)  Gray{N0f8}(1.0)\n",
       " Gray{N0f8}(1.0)  Gray{N0f8}(1.0)     Gray{N0f8}(1.0)  Gray{N0f8}(1.0)\n",
       " Gray{N0f8}(1.0)  Gray{N0f8}(1.0)  …  Gray{N0f8}(1.0)  Gray{N0f8}(1.0)\n",
       " Gray{N0f8}(1.0)  Gray{N0f8}(1.0)     Gray{N0f8}(1.0)  Gray{N0f8}(1.0)\n",
       " Gray{N0f8}(1.0)  Gray{N0f8}(1.0)     Gray{N0f8}(1.0)  Gray{N0f8}(1.0)\n",
       " Gray{N0f8}(1.0)  Gray{N0f8}(1.0)     Gray{N0f8}(1.0)  Gray{N0f8}(1.0)\n",
       " Gray{N0f8}(1.0)  Gray{N0f8}(1.0)     Gray{N0f8}(1.0)  Gray{N0f8}(1.0)\n",
       " Gray{N0f8}(1.0)  Gray{N0f8}(1.0)  …  Gray{N0f8}(1.0)  Gray{N0f8}(1.0)\n",
       " Gray{N0f8}(1.0)  Gray{N0f8}(1.0)     Gray{N0f8}(1.0)  Gray{N0f8}(1.0)\n",
       " Gray{N0f8}(1.0)  Gray{N0f8}(1.0)     Gray{N0f8}(1.0)  Gray{N0f8}(1.0)\n",
       " ⋮                                 ⋱                                  \n",
       " Gray{N0f8}(1.0)  Gray{N0f8}(1.0)     Gray{N0f8}(1.0)  Gray{N0f8}(1.0)\n",
       " Gray{N0f8}(1.0)  Gray{N0f8}(1.0)     Gray{N0f8}(1.0)  Gray{N0f8}(1.0)\n",
       " Gray{N0f8}(1.0)  Gray{N0f8}(1.0)  …  Gray{N0f8}(1.0)  Gray{N0f8}(1.0)\n",
       " Gray{N0f8}(1.0)  Gray{N0f8}(1.0)     Gray{N0f8}(1.0)  Gray{N0f8}(1.0)\n",
       " Gray{N0f8}(1.0)  Gray{N0f8}(1.0)     Gray{N0f8}(1.0)  Gray{N0f8}(1.0)\n",
       " Gray{N0f8}(1.0)  Gray{N0f8}(1.0)     Gray{N0f8}(1.0)  Gray{N0f8}(1.0)\n",
       " Gray{N0f8}(1.0)  Gray{N0f8}(1.0)     Gray{N0f8}(1.0)  Gray{N0f8}(1.0)\n",
       " Gray{N0f8}(1.0)  Gray{N0f8}(1.0)  …  Gray{N0f8}(1.0)  Gray{N0f8}(1.0)\n",
       " Gray{N0f8}(1.0)  Gray{N0f8}(1.0)     Gray{N0f8}(1.0)  Gray{N0f8}(1.0)\n",
       " Gray{N0f8}(1.0)  Gray{N0f8}(1.0)     Gray{N0f8}(1.0)  Gray{N0f8}(1.0)\n",
       " Gray{N0f8}(1.0)  Gray{N0f8}(1.0)     Gray{N0f8}(1.0)  Gray{N0f8}(1.0)\n",
       " Gray{N0f8}(1.0)  Gray{N0f8}(1.0)     Gray{N0f8}(1.0)  Gray{N0f8}(1.0)"
      ]
     },
     "execution_count": 11,
     "metadata": {},
     "output_type": "execute_result"
    }
   ],
   "source": [
    "banana = Gray.(banana)"
   ]
  },
  {
   "cell_type": "code",
   "execution_count": 13,
   "metadata": {},
   "outputs": [
    {
     "data": {
      "image/png": "[encoded data removed]",
      "text/plain": [
       "100×100 Array{Gray{N0f8},2} with eltype Gray{Normed{UInt8,8}}:\n",
       " Gray{N0f8}(1.0)  Gray{N0f8}(1.0)  …  Gray{N0f8}(1.0)  Gray{N0f8}(1.0)\n",
       " Gray{N0f8}(1.0)  Gray{N0f8}(1.0)     Gray{N0f8}(1.0)  Gray{N0f8}(1.0)\n",
       " Gray{N0f8}(1.0)  Gray{N0f8}(1.0)     Gray{N0f8}(1.0)  Gray{N0f8}(1.0)\n",
       " Gray{N0f8}(1.0)  Gray{N0f8}(1.0)     Gray{N0f8}(1.0)  Gray{N0f8}(1.0)\n",
       " Gray{N0f8}(1.0)  Gray{N0f8}(1.0)     Gray{N0f8}(1.0)  Gray{N0f8}(1.0)\n",
       " Gray{N0f8}(1.0)  Gray{N0f8}(1.0)  …  Gray{N0f8}(1.0)  Gray{N0f8}(1.0)\n",
       " Gray{N0f8}(1.0)  Gray{N0f8}(1.0)     Gray{N0f8}(1.0)  Gray{N0f8}(1.0)\n",
       " Gray{N0f8}(1.0)  Gray{N0f8}(1.0)     Gray{N0f8}(1.0)  Gray{N0f8}(1.0)\n",
       " Gray{N0f8}(1.0)  Gray{N0f8}(1.0)     Gray{N0f8}(1.0)  Gray{N0f8}(1.0)\n",
       " Gray{N0f8}(1.0)  Gray{N0f8}(1.0)     Gray{N0f8}(1.0)  Gray{N0f8}(1.0)\n",
       " Gray{N0f8}(1.0)  Gray{N0f8}(1.0)  …  Gray{N0f8}(1.0)  Gray{N0f8}(1.0)\n",
       " Gray{N0f8}(1.0)  Gray{N0f8}(1.0)     Gray{N0f8}(1.0)  Gray{N0f8}(1.0)\n",
       " Gray{N0f8}(1.0)  Gray{N0f8}(1.0)     Gray{N0f8}(1.0)  Gray{N0f8}(1.0)\n",
       " ⋮                                 ⋱                                  \n",
       " Gray{N0f8}(1.0)  Gray{N0f8}(1.0)     Gray{N0f8}(1.0)  Gray{N0f8}(1.0)\n",
       " Gray{N0f8}(1.0)  Gray{N0f8}(1.0)     Gray{N0f8}(1.0)  Gray{N0f8}(1.0)\n",
       " Gray{N0f8}(1.0)  Gray{N0f8}(1.0)  …  Gray{N0f8}(1.0)  Gray{N0f8}(1.0)\n",
       " Gray{N0f8}(1.0)  Gray{N0f8}(1.0)     Gray{N0f8}(1.0)  Gray{N0f8}(1.0)\n",
       " Gray{N0f8}(1.0)  Gray{N0f8}(1.0)     Gray{N0f8}(1.0)  Gray{N0f8}(1.0)\n",
       " Gray{N0f8}(1.0)  Gray{N0f8}(1.0)     Gray{N0f8}(1.0)  Gray{N0f8}(1.0)\n",
       " Gray{N0f8}(1.0)  Gray{N0f8}(1.0)     Gray{N0f8}(1.0)  Gray{N0f8}(1.0)\n",
       " Gray{N0f8}(1.0)  Gray{N0f8}(1.0)  …  Gray{N0f8}(1.0)  Gray{N0f8}(1.0)\n",
       " Gray{N0f8}(1.0)  Gray{N0f8}(1.0)     Gray{N0f8}(1.0)  Gray{N0f8}(1.0)\n",
       " Gray{N0f8}(1.0)  Gray{N0f8}(1.0)     Gray{N0f8}(1.0)  Gray{N0f8}(1.0)\n",
       " Gray{N0f8}(1.0)  Gray{N0f8}(1.0)     Gray{N0f8}(1.0)  Gray{N0f8}(1.0)\n",
       " Gray{N0f8}(1.0)  Gray{N0f8}(1.0)     Gray{N0f8}(1.0)  Gray{N0f8}(1.0)"
      ]
     },
     "execution_count": 13,
     "metadata": {},
     "output_type": "execute_result"
    }
   ],
   "source": [
    "channelview(banana)\n",
    "Gray.(channelview(banana))"
   ]
  },
  {
   "cell_type": "markdown",
   "metadata": {},
   "source": [
    "## Singular Value Decomposition\n",
    "\n",
    "$$ A = USV^T $$"
   ]
  },
  {
   "cell_type": "code",
   "execution_count": 14,
   "metadata": {},
   "outputs": [
    {
     "data": {
      "text/plain": [
       "compress_image (generic function with 1 method)"
      ]
     },
     "execution_count": 14,
     "metadata": {},
     "output_type": "execute_result"
    }
   ],
   "source": [
    "function compress_image(image, factor)\n",
    "    image = channelview(Gray.(image))\n",
    "    image = svd(image)\n",
    "    U, S, V = image.U, image.S, image.V\n",
    "    number_singular = size(S)[1]\n",
    "    d = fld(number_singular, factor) # largest integer less than or equal to x / y\n",
    "    compressed_image = U[:, 1:d] * Diagonal(S[1:d]) * V[:, 1:d]'\n",
    "    Gray.(compressed_image)\n",
    "end"
   ]
  },
  {
   "cell_type": "code",
   "execution_count": 15,
   "metadata": {},
   "outputs": [
    {
     "data": {
      "image/png": "[encoded data removed]",
      "text/plain": [
       "100×100 Array{Gray{Float32},2} with eltype Gray{Float32}:\n",
       " Gray{Float32}(1.00433)  Gray{Float32}(0.993665)  …  Gray{Float32}(1.01384)\n",
       " Gray{Float32}(1.00433)  Gray{Float32}(0.993664)     Gray{Float32}(1.01384)\n",
       " Gray{Float32}(1.00433)  Gray{Float32}(0.993664)     Gray{Float32}(1.01384)\n",
       " Gray{Float32}(1.00433)  Gray{Float32}(0.993664)     Gray{Float32}(1.01384)\n",
       " Gray{Float32}(1.00433)  Gray{Float32}(0.993664)     Gray{Float32}(1.01384)\n",
       " Gray{Float32}(1.00433)  Gray{Float32}(0.993664)  …  Gray{Float32}(1.01384)\n",
       " Gray{Float32}(1.00433)  Gray{Float32}(0.993664)     Gray{Float32}(1.01384)\n",
       " Gray{Float32}(1.00433)  Gray{Float32}(0.993664)     Gray{Float32}(1.01384)\n",
       " Gray{Float32}(1.00433)  Gray{Float32}(0.993664)     Gray{Float32}(1.01384)\n",
       " Gray{Float32}(1.00433)  Gray{Float32}(0.993664)     Gray{Float32}(1.01384)\n",
       " Gray{Float32}(1.00433)  Gray{Float32}(0.993664)  …  Gray{Float32}(1.01384)\n",
       " Gray{Float32}(1.00433)  Gray{Float32}(0.993664)     Gray{Float32}(1.01384)\n",
       " Gray{Float32}(1.00433)  Gray{Float32}(0.993664)     Gray{Float32}(1.01384)\n",
       " ⋮                                                ⋱                        \n",
       " Gray{Float32}(1.00433)  Gray{Float32}(0.993664)     Gray{Float32}(1.01384)\n",
       " Gray{Float32}(1.00433)  Gray{Float32}(0.993664)     Gray{Float32}(1.01384)\n",
       " Gray{Float32}(1.00433)  Gray{Float32}(0.993664)  …  Gray{Float32}(1.01384)\n",
       " Gray{Float32}(1.00433)  Gray{Float32}(0.993664)     Gray{Float32}(1.01384)\n",
       " Gray{Float32}(1.00433)  Gray{Float32}(0.993664)     Gray{Float32}(1.01384)\n",
       " Gray{Float32}(1.00433)  Gray{Float32}(0.993664)     Gray{Float32}(1.01384)\n",
       " Gray{Float32}(1.00433)  Gray{Float32}(0.993664)     Gray{Float32}(1.01384)\n",
       " Gray{Float32}(1.00433)  Gray{Float32}(0.993664)  …  Gray{Float32}(1.01384)\n",
       " Gray{Float32}(1.00433)  Gray{Float32}(0.993664)     Gray{Float32}(1.01384)\n",
       " Gray{Float32}(1.00433)  Gray{Float32}(0.993664)     Gray{Float32}(1.01384)\n",
       " Gray{Float32}(1.00433)  Gray{Float32}(0.993664)     Gray{Float32}(1.01384)\n",
       " Gray{Float32}(1.00433)  Gray{Float32}(0.993664)     Gray{Float32}(1.01384)"
      ]
     },
     "execution_count": 15,
     "metadata": {},
     "output_type": "execute_result"
    }
   ],
   "source": [
    "compress_image(banana, 10)"
   ]
  },
  {
   "cell_type": "code",
   "execution_count": 18,
   "metadata": {},
   "outputs": [
    {
     "data": {
      "image/png": "[encoded data removed]",
      "text/plain": [
       "100×100 Array{Gray{Float32},2} with eltype Gray{Float32}:\n",
       " Gray{Float32}(1.03608)  Gray{Float32}(1.01501)  …  Gray{Float32}(1.04086)\n",
       " Gray{Float32}(1.03608)  Gray{Float32}(1.01501)     Gray{Float32}(1.04086)\n",
       " Gray{Float32}(1.03608)  Gray{Float32}(1.01501)     Gray{Float32}(1.04086)\n",
       " Gray{Float32}(1.03608)  Gray{Float32}(1.01501)     Gray{Float32}(1.04086)\n",
       " Gray{Float32}(1.03608)  Gray{Float32}(1.01501)     Gray{Float32}(1.04086)\n",
       " Gray{Float32}(1.03608)  Gray{Float32}(1.01501)  …  Gray{Float32}(1.04086)\n",
       " Gray{Float32}(1.03608)  Gray{Float32}(1.01501)     Gray{Float32}(1.04086)\n",
       " Gray{Float32}(1.03608)  Gray{Float32}(1.01501)     Gray{Float32}(1.04086)\n",
       " Gray{Float32}(1.03608)  Gray{Float32}(1.01501)     Gray{Float32}(1.04086)\n",
       " Gray{Float32}(1.03608)  Gray{Float32}(1.01501)     Gray{Float32}(1.04086)\n",
       " Gray{Float32}(1.03608)  Gray{Float32}(1.01501)  …  Gray{Float32}(1.04086)\n",
       " Gray{Float32}(1.03608)  Gray{Float32}(1.01501)     Gray{Float32}(1.04086)\n",
       " Gray{Float32}(1.03608)  Gray{Float32}(1.01501)     Gray{Float32}(1.04086)\n",
       " ⋮                                               ⋱                        \n",
       " Gray{Float32}(1.03608)  Gray{Float32}(1.01501)     Gray{Float32}(1.04086)\n",
       " Gray{Float32}(1.03608)  Gray{Float32}(1.01501)     Gray{Float32}(1.04086)\n",
       " Gray{Float32}(1.03608)  Gray{Float32}(1.01501)  …  Gray{Float32}(1.04086)\n",
       " Gray{Float32}(1.03608)  Gray{Float32}(1.01501)     Gray{Float32}(1.04086)\n",
       " Gray{Float32}(1.03608)  Gray{Float32}(1.01501)     Gray{Float32}(1.04086)\n",
       " Gray{Float32}(1.03608)  Gray{Float32}(1.01501)     Gray{Float32}(1.04086)\n",
       " Gray{Float32}(1.03608)  Gray{Float32}(1.01501)     Gray{Float32}(1.04086)\n",
       " Gray{Float32}(1.03608)  Gray{Float32}(1.01501)  …  Gray{Float32}(1.04086)\n",
       " Gray{Float32}(1.03608)  Gray{Float32}(1.01501)     Gray{Float32}(1.04086)\n",
       " Gray{Float32}(1.03608)  Gray{Float32}(1.01501)     Gray{Float32}(1.04086)\n",
       " Gray{Float32}(1.03608)  Gray{Float32}(1.01501)     Gray{Float32}(1.04086)\n",
       " Gray{Float32}(1.03608)  Gray{Float32}(1.01501)     Gray{Float32}(1.04086)"
      ]
     },
     "execution_count": 18,
     "metadata": {},
     "output_type": "execute_result"
    }
   ],
   "source": [
    "comp_image = compress_image(banana, 20)"
   ]
  }
 ],
 "metadata": {
  "kernelspec": {
   "display_name": "Julia 1.1.1",
   "language": "julia",
   "name": "julia-1.1"
  },
  "language_info": {
   "file_extension": ".jl",
   "mimetype": "application/julia",
   "name": "julia",
   "version": "1.1.1"
  }
 },
 "nbformat": 4,
 "nbformat_minor": 2
}
