{
 "cells": [
  {
   "cell_type": "code",
   "execution_count": 1,
   "metadata": {},
   "outputs": [
    {
     "name": "stdout",
     "output_type": "stream",
     "text": [
      "numerical solution = 0.5 \n",
      "Monte Carllo estimate = 0.500079\n"
     ]
    }
   ],
   "source": [
    "N, faces = 10^6, 1:6\n",
    "\n",
    "# numerical\n",
    "num_solution = sum([iseven(i+j) for i in faces, j in faces]) / length(faces)^2\n",
    "\n",
    "# monte carlo estimate\n",
    "mc_estimate = sum([iseven(rand(faces)+rand(faces)) for i in 1:N]) / N\n",
    "\n",
    "println(\"numerical solution = $num_solution \\nMonte Carllo estimate = $mc_estimate\")"
   ]
  },
  {
   "cell_type": "code",
   "execution_count": 2,
   "metadata": {},
   "outputs": [
    {
     "data": {
      "text/plain": [
       "MersenneTwister(UInt32[0x5941dff4, 0x8fb2d2df, 0x13a1dab2, 0xdd4703e3], Random.DSFMT.DSFMT_state(Int32[-1255816580, 1072777140, 1252595274, 1073408697, -574238784, 1072992302, -877248109, 1073557169, 498612465, 1073185835  …  -989747973, 1073713788, 632956980, 1073718768, 873262008, -1752491693, 546289740, -1129096547, 382, 0]), [0.0, 0.0, 0.0, 0.0, 0.0, 0.0, 0.0, 0.0, 0.0, 0.0  …  0.0, 0.0, 0.0, 0.0, 0.0, 0.0, 0.0, 0.0, 0.0, 0.0], UInt128[0x00000000000000000000000000000000, 0x00000000000000000000000000000000, 0x00000000000000000000000000000000, 0x00000000000000000000000000000000, 0x00000000000000000000000000000000, 0x00000000000000000000000000000000, 0x00000000000000000000000000000000, 0x00000000000000000000000000000000, 0x00000000000000000000000000000000, 0x00000000000000000000000000000000  …  0x00000000000000000000000000000000, 0x00000000000000000000000000000000, 0x00000000000000000000000000000000, 0x00000000000000000000000000000000, 0x00000000000000000000000000000000, 0x00000000000000000000000000000000, 0x00000000000000000000000000000000, 0x00000000000000000000000000000000, 0x00000000000000000000000000000000, 0x00000000000000000000000000000000], 1002, 0)"
      ]
     },
     "execution_count": 2,
     "metadata": {},
     "output_type": "execute_result"
    }
   ],
   "source": [
    "using Random\n",
    "Random.seed!()"
   ]
  },
  {
   "cell_type": "code",
   "execution_count": 3,
   "metadata": {},
   "outputs": [
    {
     "data": {
      "text/plain": [
       "(12225, 0.12225)"
      ]
     },
     "execution_count": 3,
     "metadata": {},
     "output_type": "execute_result"
    }
   ],
   "source": [
    "pw_length, num_matches_for_log = 8, 1\n",
    "possible_chars = ['a':'z'; 'A':'Z'; '0':'9']\n",
    "\n",
    "correct_pw = \"9Ji38zwM\"\n",
    "\n",
    "num_match(login_pw) = sum([login_pw[i] == correct_pw[i] for i in 1 : pw_length])\n",
    "\n",
    "N = 10^5\n",
    "\n",
    "pws = [String(rand(possible_chars, pw_length)) for _ in 1:N]\n",
    "num_logs = sum([num_match(p) >= num_matches_for_log for p in pws])\n",
    "\n",
    "# .12198\n",
    "num_logs, num_logs / N"
   ]
  }
 ],
 "metadata": {
  "kernelspec": {
   "display_name": "Julia 1.1.1",
   "language": "julia",
   "name": "julia-1.1"
  },
  "language_info": {
   "file_extension": ".jl",
   "mimetype": "application/julia",
   "name": "julia",
   "version": "1.1.1"
  }
 },
 "nbformat": 4,
 "nbformat_minor": 2
}
