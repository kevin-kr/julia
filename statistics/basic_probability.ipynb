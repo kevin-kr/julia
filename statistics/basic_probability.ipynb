{
 "cells": [
  {
   "cell_type": "markdown",
   "metadata": {},
   "source": [
    "### Rolling Two Dice"
   ]
  },
  {
   "cell_type": "code",
   "execution_count": 1,
   "metadata": {},
   "outputs": [
    {
     "name": "stdout",
     "output_type": "stream",
     "text": [
      "numerical solution = 0.5 \n",
      "Monte Carllo estimate = 0.500491\n"
     ]
    }
   ],
   "source": [
    "N, faces = 10^6, 1:6\n",
    "\n",
    "# numerical\n",
    "num_solution = sum([iseven(i+j) for i in faces, j in faces]) / length(faces)^2\n",
    "\n",
    "# monte carlo estimate\n",
    "mc_estimate = sum([iseven(rand(faces)+rand(faces)) for i in 1:N]) / N\n",
    "\n",
    "println(\"numerical solution = $num_solution \\nMonte Carllo estimate = $mc_estimate\")"
   ]
  },
  {
   "cell_type": "markdown",
   "metadata": {},
   "source": [
    "### Partially Matching Password"
   ]
  },
  {
   "cell_type": "code",
   "execution_count": 2,
   "metadata": {},
   "outputs": [
    {
     "data": {
      "text/plain": [
       "(12329, 0.12329)"
      ]
     },
     "execution_count": 2,
     "metadata": {},
     "output_type": "execute_result"
    }
   ],
   "source": [
    "using Random\n",
    "Random.seed!()\n",
    "\n",
    "pw_length, num_matches_for_log = 8, 1\n",
    "possible_chars = ['a':'z'; 'A':'Z'; '0':'9']\n",
    "\n",
    "correct_pw = \"9Ji38zwM\"\n",
    "\n",
    "num_match(login_pw) = sum([login_pw[i] == correct_pw[i] for i in 1 : pw_length])\n",
    "\n",
    "N = 10^5\n",
    "\n",
    "pws = [String(rand(possible_chars, pw_length)) for _ in 1:N]\n",
    "num_logs = sum([num_match(p) >= num_matches_for_log for p in pws])\n",
    "\n",
    "# .12198\n",
    "num_logs, num_logs / N"
   ]
  },
  {
   "cell_type": "markdown",
   "metadata": {},
   "source": [
    "### The Birthday Problem"
   ]
  },
  {
   "cell_type": "code",
   "execution_count": 7,
   "metadata": {},
   "outputs": [
    {
     "name": "stdout",
     "output_type": "stream",
     "text": [
      "\u001b[32m\u001b[1m Resolving\u001b[22m\u001b[39m package versions...\n",
      "\u001b[32m\u001b[1m Installed\u001b[22m\u001b[39m LaTeXStrings ─ v1.0.3\n",
      "\u001b[32m\u001b[1m Installed\u001b[22m\u001b[39m PyPlot ─────── v2.8.1\n",
      "\u001b[32m\u001b[1m  Updating\u001b[22m\u001b[39m `C:\\Users\\quf93\\.julia\\environments\\v1.1\\Project.toml`\n",
      " \u001b[90m [d330b81b]\u001b[39m\u001b[92m + PyPlot v2.8.1\u001b[39m\n",
      "\u001b[32m\u001b[1m  Updating\u001b[22m\u001b[39m `C:\\Users\\quf93\\.julia\\environments\\v1.1\\Manifest.toml`\n",
      " \u001b[90m [b964fa9f]\u001b[39m\u001b[92m + LaTeXStrings v1.0.3\u001b[39m\n",
      " \u001b[90m [d330b81b]\u001b[39m\u001b[92m + PyPlot v2.8.1\u001b[39m\n"
     ]
    },
    {
     "name": "stderr",
     "output_type": "stream",
     "text": [
      "┌ Info: Precompiling PyPlot [d330b81b-6aea-500a-939a-2ce795aea3ee]\n",
      "└ @ Base loading.jl:1186\n"
     ]
    }
   ],
   "source": [
    "using StatsBase, Combinatorics, PyPlot"
   ]
  },
  {
   "cell_type": "code",
   "execution_count": null,
   "metadata": {},
   "outputs": [],
   "source": []
  }
 ],
 "metadata": {
  "kernelspec": {
   "display_name": "Julia 1.1.1",
   "language": "julia",
   "name": "julia-1.1"
  },
  "language_info": {
   "file_extension": ".jl",
   "mimetype": "application/julia",
   "name": "julia",
   "version": "1.1.1"
  }
 },
 "nbformat": 4,
 "nbformat_minor": 2
}
